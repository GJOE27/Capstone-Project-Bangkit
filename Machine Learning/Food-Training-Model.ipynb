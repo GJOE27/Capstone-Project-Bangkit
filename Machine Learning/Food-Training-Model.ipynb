{
 "cells": [
  {
   "cell_type": "code",
   "execution_count": 13,
   "id": "b7887e25",
   "metadata": {},
   "outputs": [],
   "source": [
    "# grader-required-cell\n",
    "\n",
    "import os\n",
    "import zipfile\n",
    "import random\n",
    "import shutil\n",
    "import tensorflow as tf\n",
    "from tensorflow.keras.preprocessing.image import ImageDataGenerator\n",
    "from shutil import copyfile\n",
    "import matplotlib.pyplot as plt\n",
    "from sklearn.model_selection import train_test_split"
   ]
  },
  {
   "cell_type": "markdown",
   "id": "ae2273ac",
   "metadata": {},
   "source": [
    "# Split the dataset\n",
    "Splitting the dataset into training and testing"
   ]
  },
  {
   "cell_type": "code",
   "execution_count": 15,
   "id": "08ae28e8",
   "metadata": {},
   "outputs": [],
   "source": [
    "dataset_path = \"../Capstone/archive/dataset_padang_food\"\n",
    "output_path = \"../Capstone/archive/split_dataset\"\n",
    "\n",
    "food_folders = os.listdir(dataset_path)\n",
    "\n",
    "for folder in food_folders:\n",
    "    folder_path = os.path.join(dataset_path, folder)\n",
    "    if os.path.isdir(folder_path):\n",
    "        photo_files = [file for file in os.listdir(folder_path) if file.endswith('.png') or file.endswith('.jpg') or file.endswith('.JPEG')]\n",
    "        train_files, test_files = train_test_split(photo_files, test_size=0.2, random_state=42)\n",
    "        \n",
    "        # Create train and test folders for the current food category\n",
    "        train_folder_path = os.path.join(output_path, 'train', folder)\n",
    "        test_folder_path = os.path.join(output_path, 'test', folder)\n",
    "        os.makedirs(train_folder_path, exist_ok=True)\n",
    "        os.makedirs(test_folder_path, exist_ok=True)\n",
    "        \n",
    "        # Move train files to the train folder\n",
    "        for file in train_files:\n",
    "            src_path = os.path.join(folder_path, file)\n",
    "            dst_path = os.path.join(train_folder_path, file)\n",
    "            shutil.copy(src_path, dst_path)\n",
    "        \n",
    "        # Move test files to the test folder\n",
    "        for file in test_files:\n",
    "            src_path = os.path.join(folder_path, file)\n",
    "            dst_path = os.path.join(test_folder_path, file)\n",
    "            shutil.copy(src_path, dst_path)"
   ]
  },
  {
   "cell_type": "code",
   "execution_count": 11,
   "id": "e2f51b56",
   "metadata": {},
   "outputs": [],
   "source": [
    "import os\n",
    "import random\n",
    "from shutil import copyfile\n",
    "\n",
    "# Specify the full path to the main dataset folder\n",
    "dataset_path = \"../Capstone/archive/dataset_padang_food\"\n",
    "\n",
    "# Specify the ratio for train-test split (e.g., 80% for training, 20% for testing)\n",
    "train_ratio = 0.8\n",
    "\n",
    "# Create empty lists for train and test datasets\n",
    "train = []\n",
    "test  = []\n",
    "\n",
    "# Iterate over the folders in the main dataset directory\n",
    "for folder_name in os.listdir(dataset_path):\n",
    "    folder_path = os.path.join(dataset_path, folder_name)\n",
    "    if os.path.isdir(folder_path):\n",
    "        # Get the list of photo files within the folder\n",
    "        photos = [file for file in os.listdir(folder_path) if file.endswith(\".jpg\") or file.endswith(\".png\")]\n",
    "        # Shuffle the photos randomly\n",
    "        random.shuffle(photos)\n",
    "        # Split the photos based on the train ratio\n",
    "        train_count = int(train_ratio * len(photos))\n",
    "        train_photos = photos[:train_count]\n",
    "        test_photos = photos[train_count:]\n",
    "        # Create train and test subdirectories within the main dataset folder\n",
    "        train_folder = os.path.join(dataset_path, folder_name, \"train\")\n",
    "        test_folder = os.path.join(dataset_path, folder_name, \"test\")\n",
    "        os.makedirs(train_folder, exist_ok=True)\n",
    "        os.makedirs(test_folder, exist_ok=True)\n",
    "        # Copy the photos to the train and test subdirectories\n",
    "        for photo in train_photos:\n",
    "            src = os.path.join(folder_path, photo)\n",
    "            dst = os.path.join(train_folder, photo)\n",
    "            copyfile(src, dst)\n",
    "            train.append(dst)  # Add the path to the train dataset list\n",
    "        for photo in test_photos:\n",
    "            src = os.path.join(folder_path, photo)\n",
    "            dst = os.path.join(test_folder, photo)\n",
    "            copyfile(src, dst)\n",
    "            test.append(dst)  # Add the path to the test dataset list \n"
   ]
  },
  {
   "cell_type": "code",
   "execution_count": 12,
   "id": "6a2da339",
   "metadata": {},
   "outputs": [
    {
     "name": "stdout",
     "output_type": "stream",
     "text": [
      "Number of image in training data: 770\n",
      "Number of image in testing data: 197\n"
     ]
    }
   ],
   "source": [
    "#Check the dataset\n",
    "train_data_len = len(train)\n",
    "test_data_len = len(test)\n",
    "\n",
    "print(\"Number of image in training data: {}\".format(train_data_len))\n",
    "print(\"Number of image in testing data: {}\".format(test_data_len))"
   ]
  },
  {
   "cell_type": "code",
   "execution_count": null,
   "id": "8a1f632d",
   "metadata": {},
   "outputs": [],
   "source": []
  }
 ],
 "metadata": {
  "kernelspec": {
   "display_name": "Python 3 (ipykernel)",
   "language": "python",
   "name": "python3"
  },
  "language_info": {
   "codemirror_mode": {
    "name": "ipython",
    "version": 3
   },
   "file_extension": ".py",
   "mimetype": "text/x-python",
   "name": "python",
   "nbconvert_exporter": "python",
   "pygments_lexer": "ipython3",
   "version": "3.9.12"
  }
 },
 "nbformat": 4,
 "nbformat_minor": 5
}
